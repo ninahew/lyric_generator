{
 "cells": [
  {
   "cell_type": "markdown",
   "metadata": {},
   "source": [
    "# Lyric Generator!\n",
    "\n",
    "Further to my studies of NLP, I decided to see whether I could harness AI to write new lyrics based on my previous listening habits. "
   ]
  },
  {
   "cell_type": "code",
   "execution_count": 38,
   "metadata": {},
   "outputs": [
    {
     "ename": "ModuleNotFoundError",
     "evalue": "No module named 'bs4'",
     "output_type": "error",
     "traceback": [
      "\u001b[0;31m---------------------------------------------------------------------------\u001b[0m",
      "\u001b[0;31mModuleNotFoundError\u001b[0m                       Traceback (most recent call last)",
      "\u001b[0;32m<ipython-input-38-a58296f8b4d8>\u001b[0m in \u001b[0;36m<module>\u001b[0;34m\u001b[0m\n\u001b[1;32m      3\u001b[0m \u001b[0;32mimport\u001b[0m \u001b[0mos\u001b[0m\u001b[0;34m.\u001b[0m\u001b[0mpath\u001b[0m \u001b[0;32mas\u001b[0m \u001b[0mpath\u001b[0m\u001b[0;34m\u001b[0m\u001b[0;34m\u001b[0m\u001b[0m\n\u001b[1;32m      4\u001b[0m \u001b[0;32mimport\u001b[0m \u001b[0mrequests\u001b[0m\u001b[0;34m\u001b[0m\u001b[0;34m\u001b[0m\u001b[0m\n\u001b[0;32m----> 5\u001b[0;31m \u001b[0;32mfrom\u001b[0m \u001b[0mbs4\u001b[0m \u001b[0;32mimport\u001b[0m \u001b[0mBeautifulSoup\u001b[0m\u001b[0;34m\u001b[0m\u001b[0;34m\u001b[0m\u001b[0m\n\u001b[0m\u001b[1;32m      6\u001b[0m \u001b[0;34m\u001b[0m\u001b[0m\n\u001b[1;32m      7\u001b[0m \u001b[0musername\u001b[0m \u001b[0;34m=\u001b[0m \u001b[0;34m'ninahew'\u001b[0m\u001b[0;34m\u001b[0m\u001b[0;34m\u001b[0m\u001b[0m\n",
      "\u001b[0;31mModuleNotFoundError\u001b[0m: No module named 'bs4'"
     ]
    }
   ],
   "source": [
    "import spotipy.util as util\n",
    "import spotipy\n",
    "import os.path as path\n",
    "import requests\n",
    "from bs4 import BeautifulSoup\n",
    "\n",
    "username = 'ninahew'\n",
    "spotify_client_id ='a758a8092e3b45949388c4123f79948f'\n",
    "spotify_client_secret = 'df4c710d84b64ab7810f0b9b055a07f2'\n",
    "redirect_uri = 'http://localhost:7777/callback'\n",
    "scope = 'user-read-recently-played'\n",
    "genius_key = 'sQkNdeBg0aT9rz89yElRfHbxE_UIW3kFs9IkXPIH6Ab4cH8DvfikT09FU56MVjZP'\n",
    "spotify_playlist_id = 'spotify:playlist:37i9dQZF1EtmAVggpyt82c'\n",
    "spotify_user_id = 'spotify:user:ninahew'\n",
    "\n",
    "from spotipy.oauth2 import SpotifyClientCredentials\n",
    "\n",
    "spotify = spotipy.Spotify(client_credentials_manager=SpotifyClientCredentials(client_id=client_id, \n",
    "                                                                              client_secret=client_secret))"
   ]
  },
  {
   "cell_type": "code",
   "execution_count": null,
   "metadata": {},
   "outputs": [],
   "source": []
  },
  {
   "cell_type": "code",
   "execution_count": null,
   "metadata": {},
   "outputs": [],
   "source": []
  },
  {
   "cell_type": "code",
   "execution_count": 21,
   "metadata": {},
   "outputs": [],
   "source": [
    "\n",
    "class GetLyrics():\n",
    "    \n",
    "    def __init__(self, spotify_client_id, spotify_client_secret, user_id, playlist_id, genius_key):\n",
    "        self.spotify_client_id = spotify_client_id\n",
    "        self.spotify_client_secret = spotify_client_secret\n",
    "        self.user_id = user_id\n",
    "        self.playlist_id = playlist_id\n",
    "        self.genius_key = genius_key\n",
    "        \n",
    "    def get_playlist_info(self):\n",
    "        token = SpotifyClientCredentials(client_id=self.spotify_client_id, client_secret=self.spotify_client_secret).get_access_token()\n",
    "        sp = spotipy.Spotify(token)\n",
    "        playlist = sp.user_playlist_tracks(self.user_id, self.playlist_id)\n",
    "        self.playlist = playlist\n",
    "        return self.playlist\n",
    "    \n",
    "    def get_track_names(self):\n",
    "        track_names = []\n",
    "        for song in range(len(self.playlist['items'])):\n",
    "            track_names.append(self.playlist['items'][song]['track']['name'])\n",
    "        self.track_names = track_names\n",
    "        return self.track_names\n",
    "    \n",
    "    def get_track_artists(self):\n",
    "        track_artists = []\n",
    "        for song in range(len(self.playlist['items'])):\n",
    "            track_artists.append(self.playlist['items'][song]['track']['artists'][0]['name'])\n",
    "        self.track_artists = track_artists\n",
    "        return self.track_artists\n",
    "        \n",
    "    def request_song_info(self, track_name, track_artist):\n",
    "        self.track_name = track_name\n",
    "        self.track_artist = track_artist\n",
    "        base_url = 'https://api.genius.com'\n",
    "        headers = {'Authorization': 'Bearer ' + self.genius_key}\n",
    "        search_url = base_url + '/search'\n",
    "        data = {'q': track_name + ' ' + track_artist}\n",
    "        response = requests.get(search_url, data=data, headers=headers)\n",
    "        self.response = response\n",
    "        return self.response\n",
    "\n",
    "    def check_hits(self):\n",
    "        json = self.response.json()\n",
    "        remote_song_info = None\n",
    "        for hit in json['response']['hits']:\n",
    "            if self.track_artist.lower() in hit['result']['primary_artist']['name'].lower():\n",
    "                remote_song_info = hit\n",
    "                break\n",
    "        self.remote_song_info = remote_song_info\n",
    "        return self.remote_song_info\n",
    "    \n",
    "    def get_url(self):\n",
    "        song_url = self.remote_song_info['result']['url']\n",
    "        self.song_url = song_url\n",
    "        return self.song_url\n",
    "    \n",
    "    def scrape_lyrics(self):\n",
    "        page = requests.get(self.song_url)\n",
    "        html = BeautifulSoup(page.text, 'html.parser')\n",
    "        lyrics1 = html.find(\"div\", class_=\"lyrics\")\n",
    "        lyrics2 = html.find(\"div\", class_=\"Lyrics__Container-sc-1ynbvzw-2 jgQsqn\")\n",
    "        if lyrics1:\n",
    "            lyrics = lyrics1.get_text()\n",
    "        elif lyrics2:\n",
    "            lyrics = lyrics2.get_text()\n",
    "        elif lyrics1 == lyrics2 == None:\n",
    "            lyrics = None\n",
    "        return lyrics\n",
    "\n",
    "    def get_lyrics(self):\n",
    "        playlist = GetLyrics.get_playlist_info(self)\n",
    "        track_names = GetLyrics.get_track_names(self)\n",
    "        track_artists = GetLyrics.get_track_artists(self)\n",
    "        song_lyrics = []\n",
    "        for i in range(len(self.track_names)):\n",
    "            print(\"\\n\")\n",
    "            print(f\"Working on track {i}.\")\n",
    "            response = GetLyrics.request_song_info(self, self.track_names[i], self.track_artists[i])\n",
    "            remote_song_info = GetLyrics.check_hits(self)\n",
    "            if remote_song_info == None:\n",
    "                lyrics = None\n",
    "                print(f\"Track {i} is not in the Genius database.\")\n",
    "            else:\n",
    "                url = GetLyrics.get_url(self)\n",
    "                lyrics = GetLyrics.scrape_lyrics(self)\n",
    "                if lyrics == None:\n",
    "                    print(f\"Track {i} is not in the Genius database.\")\n",
    "                else:\n",
    "                    print(f\"Retrieved track {i} lyrics!\")\n",
    "            song_lyrics.append(lyrics)\n",
    "        return song_lyrics\n"
   ]
  },
  {
   "cell_type": "code",
   "execution_count": 22,
   "metadata": {},
   "outputs": [
    {
     "name": "stderr",
     "output_type": "stream",
     "text": [
      "<ipython-input-21-7c333718245f>:11: DeprecationWarning: You're using 'as_dict = True'.get_access_token will return the token string directly in future versions. Please adjust your code accordingly, or use get_cached_token instead.\n",
      "  token = SpotifyClientCredentials(client_id=self.spotify_client_id, client_secret=self.spotify_client_secret).get_access_token()\n"
     ]
    },
    {
     "name": "stdout",
     "output_type": "stream",
     "text": [
      "\n",
      "\n",
      "Working on track 0.\n"
     ]
    },
    {
     "ename": "NameError",
     "evalue": "name 'BeautifulSoup' is not defined",
     "output_type": "error",
     "traceback": [
      "\u001b[0;31m---------------------------------------------------------------------------\u001b[0m",
      "\u001b[0;31mNameError\u001b[0m                                 Traceback (most recent call last)",
      "\u001b[0;32m<ipython-input-22-56099610e8d3>\u001b[0m in \u001b[0;36m<module>\u001b[0;34m\u001b[0m\n\u001b[1;32m      1\u001b[0m \u001b[0msongs\u001b[0m \u001b[0;34m=\u001b[0m \u001b[0mGetLyrics\u001b[0m\u001b[0;34m(\u001b[0m\u001b[0mspotify_client_id\u001b[0m\u001b[0;34m,\u001b[0m \u001b[0mspotify_client_secret\u001b[0m\u001b[0;34m,\u001b[0m \u001b[0mspotify_user_id\u001b[0m\u001b[0;34m,\u001b[0m \u001b[0mspotify_playlist_id\u001b[0m\u001b[0;34m,\u001b[0m \u001b[0mgenius_key\u001b[0m\u001b[0;34m)\u001b[0m\u001b[0;34m\u001b[0m\u001b[0;34m\u001b[0m\u001b[0m\n\u001b[0;32m----> 2\u001b[0;31m \u001b[0msong_lyrics\u001b[0m \u001b[0;34m=\u001b[0m \u001b[0msongs\u001b[0m\u001b[0;34m.\u001b[0m\u001b[0mget_lyrics\u001b[0m\u001b[0;34m(\u001b[0m\u001b[0;34m)\u001b[0m\u001b[0;34m\u001b[0m\u001b[0;34m\u001b[0m\u001b[0m\n\u001b[0m",
      "\u001b[0;32m<ipython-input-21-7c333718245f>\u001b[0m in \u001b[0;36mget_lyrics\u001b[0;34m(self)\u001b[0m\n\u001b[1;32m     83\u001b[0m             \u001b[0;32melse\u001b[0m\u001b[0;34m:\u001b[0m\u001b[0;34m\u001b[0m\u001b[0;34m\u001b[0m\u001b[0m\n\u001b[1;32m     84\u001b[0m                 \u001b[0murl\u001b[0m \u001b[0;34m=\u001b[0m \u001b[0mGetLyrics\u001b[0m\u001b[0;34m.\u001b[0m\u001b[0mget_url\u001b[0m\u001b[0;34m(\u001b[0m\u001b[0mself\u001b[0m\u001b[0;34m)\u001b[0m\u001b[0;34m\u001b[0m\u001b[0;34m\u001b[0m\u001b[0m\n\u001b[0;32m---> 85\u001b[0;31m                 \u001b[0mlyrics\u001b[0m \u001b[0;34m=\u001b[0m \u001b[0mGetLyrics\u001b[0m\u001b[0;34m.\u001b[0m\u001b[0mscrape_lyrics\u001b[0m\u001b[0;34m(\u001b[0m\u001b[0mself\u001b[0m\u001b[0;34m)\u001b[0m\u001b[0;34m\u001b[0m\u001b[0;34m\u001b[0m\u001b[0m\n\u001b[0m\u001b[1;32m     86\u001b[0m                 \u001b[0;32mif\u001b[0m \u001b[0mlyrics\u001b[0m \u001b[0;34m==\u001b[0m \u001b[0;32mNone\u001b[0m\u001b[0;34m:\u001b[0m\u001b[0;34m\u001b[0m\u001b[0;34m\u001b[0m\u001b[0m\n\u001b[1;32m     87\u001b[0m                     \u001b[0mprint\u001b[0m\u001b[0;34m(\u001b[0m\u001b[0;34mf\"Track {i} is not in the Genius database.\"\u001b[0m\u001b[0;34m)\u001b[0m\u001b[0;34m\u001b[0m\u001b[0;34m\u001b[0m\u001b[0m\n",
      "\u001b[0;32m<ipython-input-21-7c333718245f>\u001b[0m in \u001b[0;36mscrape_lyrics\u001b[0;34m(self)\u001b[0m\n\u001b[1;32m     57\u001b[0m     \u001b[0;32mdef\u001b[0m \u001b[0mscrape_lyrics\u001b[0m\u001b[0;34m(\u001b[0m\u001b[0mself\u001b[0m\u001b[0;34m)\u001b[0m\u001b[0;34m:\u001b[0m\u001b[0;34m\u001b[0m\u001b[0;34m\u001b[0m\u001b[0m\n\u001b[1;32m     58\u001b[0m         \u001b[0mpage\u001b[0m \u001b[0;34m=\u001b[0m \u001b[0mrequests\u001b[0m\u001b[0;34m.\u001b[0m\u001b[0mget\u001b[0m\u001b[0;34m(\u001b[0m\u001b[0mself\u001b[0m\u001b[0;34m.\u001b[0m\u001b[0msong_url\u001b[0m\u001b[0;34m)\u001b[0m\u001b[0;34m\u001b[0m\u001b[0;34m\u001b[0m\u001b[0m\n\u001b[0;32m---> 59\u001b[0;31m         \u001b[0mhtml\u001b[0m \u001b[0;34m=\u001b[0m \u001b[0mBeautifulSoup\u001b[0m\u001b[0;34m(\u001b[0m\u001b[0mpage\u001b[0m\u001b[0;34m.\u001b[0m\u001b[0mtext\u001b[0m\u001b[0;34m,\u001b[0m \u001b[0;34m'html.parser'\u001b[0m\u001b[0;34m)\u001b[0m\u001b[0;34m\u001b[0m\u001b[0;34m\u001b[0m\u001b[0m\n\u001b[0m\u001b[1;32m     60\u001b[0m         \u001b[0mlyrics1\u001b[0m \u001b[0;34m=\u001b[0m \u001b[0mhtml\u001b[0m\u001b[0;34m.\u001b[0m\u001b[0mfind\u001b[0m\u001b[0;34m(\u001b[0m\u001b[0;34m\"div\"\u001b[0m\u001b[0;34m,\u001b[0m \u001b[0mclass_\u001b[0m\u001b[0;34m=\u001b[0m\u001b[0;34m\"lyrics\"\u001b[0m\u001b[0;34m)\u001b[0m\u001b[0;34m\u001b[0m\u001b[0;34m\u001b[0m\u001b[0m\n\u001b[1;32m     61\u001b[0m         \u001b[0mlyrics2\u001b[0m \u001b[0;34m=\u001b[0m \u001b[0mhtml\u001b[0m\u001b[0;34m.\u001b[0m\u001b[0mfind\u001b[0m\u001b[0;34m(\u001b[0m\u001b[0;34m\"div\"\u001b[0m\u001b[0;34m,\u001b[0m \u001b[0mclass_\u001b[0m\u001b[0;34m=\u001b[0m\u001b[0;34m\"Lyrics__Container-sc-1ynbvzw-2 jgQsqn\"\u001b[0m\u001b[0;34m)\u001b[0m\u001b[0;34m\u001b[0m\u001b[0;34m\u001b[0m\u001b[0m\n",
      "\u001b[0;31mNameError\u001b[0m: name 'BeautifulSoup' is not defined"
     ]
    }
   ],
   "source": [
    "songs = GetLyrics(spotify_client_id, spotify_client_secret, spotify_user_id, spotify_playlist_id, genius_key)\n",
    "song_lyrics = songs.get_lyrics()"
   ]
  },
  {
   "cell_type": "code",
   "execution_count": null,
   "metadata": {},
   "outputs": [],
   "source": []
  }
 ],
 "metadata": {
  "kernelspec": {
   "display_name": "Python 3",
   "language": "python",
   "name": "python3"
  },
  "language_info": {
   "codemirror_mode": {
    "name": "ipython",
    "version": 3
   },
   "file_extension": ".py",
   "mimetype": "text/x-python",
   "name": "python",
   "nbconvert_exporter": "python",
   "pygments_lexer": "ipython3",
   "version": "3.8.2"
  }
 },
 "nbformat": 4,
 "nbformat_minor": 4
}
